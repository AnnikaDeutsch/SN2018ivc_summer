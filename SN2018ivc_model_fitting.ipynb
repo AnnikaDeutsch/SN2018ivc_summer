{
 "cells": [
  {
   "cell_type": "markdown",
   "metadata": {},
   "source": [
    "## Import relevant packages ##"
   ]
  },
  {
   "cell_type": "code",
   "execution_count": 3,
   "metadata": {},
   "outputs": [],
   "source": [
    "import numpy as np\n",
    "import matplotlib.pyplot as plt\n",
    "import emcee\n",
    "from astropy.io import ascii\n",
    "import corner\n",
    "import os\n",
    "from timeit import default_timer as timer\n",
    "import matplotlib.colors as colors\n",
    "import matplotlib.cm as cmx\n",
    "import matplotlib.lines as mlines\n",
    "from scipy.optimize import least_squares, curve_fit\n",
    "from scipy.stats import f\n",
    "from astropy.table import Table, vstack\n",
    "import pandas as pd\n",
    "import lmfit"
   ]
  },
  {
   "cell_type": "markdown",
   "metadata": {},
   "source": [
    "## Define plotting functions:"
   ]
  },
  {
   "cell_type": "code",
   "execution_count": 4,
   "metadata": {},
   "outputs": [],
   "source": [
    "def plot_data(ax, sm, data, mode, scaled=False, **kwargs):\n",
    "    telescope_marker_dict = {'VLA':'s', 'ALMA':'o', 'e-MERLIN':'d'}\n",
    "\n",
    "    for row in data:\n",
    "        if mode == 'lc':\n",
    "            x = row['time']\n",
    "            # set marker color based on frequency\n",
    "            freq = row['freq']\n",
    "            colorval = sm.to_rgba(freq)\n",
    "        if mode == 'sed':\n",
    "            x = row['freq']\n",
    "            # set marker color based on time\n",
    "            time = row['time']\n",
    "            colorval = sm.to_rgba(time)\n",
    "\n",
    "        telescope = row['telescope']\n",
    "        marker = telescope_marker_dict[telescope]\n",
    "        \n",
    "        if scaled:\n",
    "            flux = row['scaled_flux']\n",
    "            err = row['scaled_flux_err']\n",
    "        else:\n",
    "            flux = row['flux']\n",
    "            err = row['flux_err']\n",
    "\n",
    "        ax.errorbar(x, flux, yerr=err, marker=marker, c=colorval)\n",
    "    return\n",
    "\n",
    "def make_plot(data, mode, title='', xlabel='', ylabel='', cbar=True, scaled=False, model=None, params=None, model_name=None, plot_models=False):\n",
    "    fig = plt.figure(figsize=(8,6))\n",
    "    ax = fig.add_subplot(111)\n",
    "\n",
    "    if cbar:\n",
    "        # get the scalar map, plot the data using the plot_data function\n",
    "        sm = cmap_setup(mode)\n",
    "        plot_data(ax, sm, data, mode, scaled=scaled)\n",
    "\n",
    "        # set up colorbar\n",
    "        if mode == 'lc':\n",
    "            fig.colorbar(sm, fraction=0.046, label=r'$\\nu$ [GHz]')\n",
    "        elif mode == 'sed':\n",
    "            fig.colorbar(sm, fraction=0.046, label='time [Days]')\n",
    "    else:\n",
    "        sm = None\n",
    "        plot_data(ax, sm, data, mode, scaled=scaled)\n",
    "\n",
    "    # set axis scales to log\n",
    "    ax.set_yscale('log')\n",
    "    ax.set_xscale('log')\n",
    "\n",
    "    #Label axes, set axis limits etc.\n",
    "    ax.set_xlabel(xlabel)\n",
    "    ax.set_title(title)\n",
    "    if scaled:\n",
    "        ax.set_ylabel('Scaled Flux Density (mJy)')\n",
    "        ax.set_title('Scaled to 3 GHz')\n",
    "    else:\n",
    "        ax.set_ylabel(ylabel)\n",
    "\n",
    "    if mode == 'lc':\n",
    "        x = data['time']\n",
    "    elif mode == 'sed':\n",
    "        x = data['freq']\n",
    "\n",
    "    if model!=None:\n",
    "        plot_model(model, params, x, ax, model_name)\n",
    "\n",
    "\n",
    "def cmap_setup(mode, cmap='viridis', min_freq=0, max_freq=300, min_time=0, max_time=2000):\n",
    "    '''\n",
    "    color markers by frequency/time\n",
    "    '''\n",
    "    if mode == 'lc':\n",
    "        freq_cmap = plt.cm.get_cmap(cmap)\n",
    "        \n",
    "        cNorm  = colors.Normalize(vmin=min_freq, vmax=max_freq)\n",
    "        scalarMap = cmx.ScalarMappable(norm=cNorm, cmap=cmap)\n",
    "        sm = scalarMap\n",
    "        sm._A = []\n",
    "    elif mode == 'sed':\n",
    "        time_cmap = plt.cm.get_cmap(cmap)\n",
    "        \n",
    "        cNorm  = colors.Normalize(vmin=min_time, vmax=max_time)\n",
    "        scalarMap = cmx.ScalarMappable(norm=cNorm, cmap=cmap)\n",
    "        sm = scalarMap\n",
    "        sm._A = []\n",
    "    \n",
    "    return sm   \n",
    "\n",
    "\n",
    "# define model plotting function to be incorporated into makeplot()\n",
    "def plot_model(model, params, x, ax, label):\n",
    "    fit = model(x, *params)\n",
    "    ax.plot(x, fit, label=label)\n",
    "    ax.legend()\n",
    "    return"
   ]
  },
  {
   "cell_type": "markdown",
   "metadata": {},
   "source": [
    "## Input Flux Density Values"
   ]
  },
  {
   "cell_type": "code",
   "execution_count": 63,
   "metadata": {},
   "outputs": [
    {
     "data": {
      "text/html": [
       "<div><i>Table length=8</i>\n",
       "<table id=\"table140304738511824\" class=\"table-striped table-bordered table-condensed\">\n",
       "<thead><tr><th>observation</th><th>time</th><th>freq</th><th>flux</th><th>flux_err</th><th>telescope</th></tr></thead>\n",
       "<thead><tr><th>str32</th><th>float64</th><th>float64</th><th>float64</th><th>float64</th><th>str32</th></tr></thead>\n",
       "<tr><td>KuD</td><td>1363.2</td><td>15.1</td><td>6.476</td><td>0.818</td><td>VLA</td></tr>\n",
       "<tr><td>XD</td><td>1365.1</td><td>10.0</td><td>7.023</td><td>0.944</td><td>VLA</td></tr>\n",
       "<tr><td>CD</td><td>1368.1</td><td>6.0</td><td>8.0</td><td>0.5</td><td>VLA</td></tr>\n",
       "<tr><td>KD</td><td>1369.2</td><td>22.0</td><td>7.055</td><td>0.673</td><td>VLA</td></tr>\n",
       "<tr><td>KaD</td><td>1369.1</td><td>33.0</td><td>8.0</td><td>0.027</td><td>VLA</td></tr>\n",
       "<tr><td>KA</td><td>1688.1</td><td>22.0</td><td>3.485</td><td>0.468</td><td>VLA</td></tr>\n",
       "<tr><td>XA</td><td>1689.9</td><td>10.0</td><td>3.0</td><td>0.5</td><td>VLA</td></tr>\n",
       "<tr><td>KaA</td><td>1702.2</td><td>33.0</td><td>3.072</td><td>0.177</td><td>VLA</td></tr>\n",
       "</table></div>"
      ],
      "text/plain": [
       "<Table length=8>\n",
       "observation   time    freq    flux  flux_err telescope\n",
       "   str32    float64 float64 float64 float64    str32  \n",
       "----------- ------- ------- ------- -------- ---------\n",
       "        KuD  1363.2    15.1   6.476    0.818       VLA\n",
       "         XD  1365.1    10.0   7.023    0.944       VLA\n",
       "         CD  1368.1     6.0     8.0      0.5       VLA\n",
       "         KD  1369.2    22.0   7.055    0.673       VLA\n",
       "        KaD  1369.1    33.0     8.0    0.027       VLA\n",
       "         KA  1688.1    22.0   3.485    0.468       VLA\n",
       "         XA  1689.9    10.0     3.0      0.5       VLA\n",
       "        KaA  1702.2    33.0   3.072    0.177       VLA"
      ]
     },
     "execution_count": 63,
     "metadata": {},
     "output_type": "execute_result"
    }
   ],
   "source": [
    "# create another data table with the data from my project:\n",
    "# observation type:\n",
    "# 6211, 6355, 6488, 5859, 6035, 7037, 6759, 7214\n",
    "observation = np.array(['KuD', 'XD', 'CD', 'KD', 'KaD', 'KA', 'XA', 'KaA'])\n",
    "\n",
    "# days since explosion\n",
    "phase = np.array([1363.2, 1365.1, 1368.1, 1369.2, 1369.1, 1688.1, 1689.9, 1702.2])\n",
    "\n",
    "# frequency of each observation (GHz)\n",
    "freq = np.array([15.1, 10.0, 6.0, 22.0, 33.0, 22.0, 10.0, 33.0])\n",
    "\n",
    "# fluxes at each time/frequency (mJy)\n",
    "flux = np.array([6.476, 7.023, 8, 7.055, 8, 3.485, 3, 3.072])\n",
    "\n",
    "# 1 sigma flux errors at each time/frequency (mJy)\n",
    "flux_err = np.array([0.818, 0.944, 0.5, 0.673, 0.027, 0.468, 0.5, 0.177])\n",
    "\n",
    "# telescope observation was made with\n",
    "telescope = np.array(['VLA']*8)\n",
    "\n",
    "table = np.column_stack((observation, phase, freq, flux, flux_err, telescope))\n",
    "data = Table(table, names=['observation', 'time', 'freq', 'flux', 'flux_err', 'telescope'])\n",
    "data['time'] = data['time'].astype(float)\n",
    "data['freq'] = data['freq'].astype(float)\n",
    "data['flux'] = data['flux'].astype(float)\n",
    "data['flux_err'] = data['flux_err'].astype(float)\n",
    "data"
   ]
  },
  {
   "cell_type": "markdown",
   "metadata": {},
   "source": [
    "## Define the relations that will be used for fitting:\n",
    "\n",
    "SSA dominant case:\n",
    "$$\\tau_{\\nu}^{\\text{SSA}} = K_2\\nu^{-(p+4)/2}$$\n",
    "$$F_{\\nu} = K_1\\nu^{5/2}(1-e^{-\\tau_{\\nu}^{\\text{SSA}}})$$\n",
    "\n",
    "FFA dominant case:\n",
    "$$\\tau_{\\nu}^{\\text{FFA}} = K_2\\nu^{-2.1}$$\n",
    "$$F_{\\nu} = K_1\\nu^{-\\alpha}e^{-\\tau_{\\nu}^{\\text{FFA}}}$$"
   ]
  },
  {
   "cell_type": "code",
   "execution_count": 59,
   "metadata": {},
   "outputs": [],
   "source": [
    "def F_SSA(freq, K1, K2, p):\n",
    "    \"\"\"\n",
    "    Calculate the flux density using Synchotron Self Absorption (SSA) model.\n",
    "\n",
    "    Parameters:\n",
    "    freq (float or numpy.ndarray): Frequency values.\n",
    "    K1 (float): Scaling factor.\n",
    "    K2 (float): Scaling factor for the optical depth.\n",
    "    p (float): Power-law index.\n",
    "\n",
    "    Returns:\n",
    "    F (numpy.ndarray): Flux density values.\n",
    "    \"\"\"\n",
    "    tau = K2 * (freq)**(-(p + 4) / 2)\n",
    "    F = K1 * (freq)**(5/2) * (1 - np.exp(-tau))\n",
    "    return F\n",
    "\n",
    "def F_FFA(freq, K1, K2, alpha):\n",
    "    \"\"\"\n",
    "    Calculate the flux density using the Free-Free Absorption (FFA) model.\n",
    "\n",
    "    Parameters:\n",
    "    freq (float or numpy.ndarray): Frequency values.\n",
    "    K1 (float): Scaling factor.\n",
    "    K2 (float): Scaling factor for the optical depth.\n",
    "    alpha (float): Power-law index.\n",
    "\n",
    "    Returns:\n",
    "    numpy.ndarray: Flux density values.\n",
    "    \"\"\"\n",
    "    tau = K2 * (freq**(-2.1))\n",
    "    F = K1 * (freq**(-alpha)) * np.exp(-tau)\n",
    "    return F"
   ]
  },
  {
   "cell_type": "markdown",
   "metadata": {},
   "source": [
    "## Fitting to the SSA model"
   ]
  },
  {
   "cell_type": "markdown",
   "metadata": {},
   "source": [
    "Find the best fit to the data using curve_fit. These will be used as the priors for the MCMC analysis."
   ]
  },
  {
   "cell_type": "code",
   "execution_count": 60,
   "metadata": {},
   "outputs": [],
   "source": [
    "def calc_params(data, model):\n",
    "    # define variables from data\n",
    "    freq = data['freq']\n",
    "    flux = data['flux']\n",
    "    flux_err = data['flux_err']\n",
    "\n",
    "    params, covariance = curve_fit(model, freq, flux, sigma=flux_err, absolute_sigma=True)\n",
    "\n",
    "    K1_fit, K2_fit, p_fit = params\n",
    "    K1_err, K2_err, p_err = np.sqrt(np.diag(covariance))\n",
    "\n",
    "    # Create a dictionary to store the results\n",
    "    results = {\n",
    "        'K1': (K1_fit, K1_err),\n",
    "        'K2': (K2_fit, K2_err),\n",
    "        'p': (p_fit, p_err)\n",
    "    }\n",
    "\n",
    "    return results"
   ]
  },
  {
   "cell_type": "code",
   "execution_count": 61,
   "metadata": {},
   "outputs": [
    {
     "ename": "RuntimeError",
     "evalue": "Optimal parameters not found: Number of calls to function has reached maxfev = 800.",
     "output_type": "error",
     "traceback": [
      "\u001b[0;31m---------------------------------------------------------------------------\u001b[0m",
      "\u001b[0;31mRuntimeError\u001b[0m                              Traceback (most recent call last)",
      "Cell \u001b[0;32mIn[61], line 3\u001b[0m\n\u001b[1;32m      1\u001b[0m \u001b[39m# take the subset of the data at ~1360 days:\u001b[39;00m\n\u001b[1;32m      2\u001b[0m data_1 \u001b[39m=\u001b[39m data[data[\u001b[39m'\u001b[39m\u001b[39mtime\u001b[39m\u001b[39m'\u001b[39m] \u001b[39m<\u001b[39m \u001b[39m1370.0\u001b[39m]\n\u001b[0;32m----> 3\u001b[0m calc_params(data_1, F_SSA)\n",
      "Cell \u001b[0;32mIn[60], line 7\u001b[0m, in \u001b[0;36mcalc_params\u001b[0;34m(data, model)\u001b[0m\n\u001b[1;32m      4\u001b[0m flux \u001b[39m=\u001b[39m data[\u001b[39m'\u001b[39m\u001b[39mflux\u001b[39m\u001b[39m'\u001b[39m]\n\u001b[1;32m      5\u001b[0m flux_err \u001b[39m=\u001b[39m data[\u001b[39m'\u001b[39m\u001b[39mflux_err\u001b[39m\u001b[39m'\u001b[39m]\n\u001b[0;32m----> 7\u001b[0m params, covariance \u001b[39m=\u001b[39m curve_fit(model, freq, flux, sigma\u001b[39m=\u001b[39;49mflux_err, absolute_sigma\u001b[39m=\u001b[39;49m\u001b[39mTrue\u001b[39;49;00m)\n\u001b[1;32m      9\u001b[0m K1_fit, K2_fit, p_fit \u001b[39m=\u001b[39m params\n\u001b[1;32m     10\u001b[0m K1_err, K2_err, p_err \u001b[39m=\u001b[39m np\u001b[39m.\u001b[39msqrt(np\u001b[39m.\u001b[39mdiag(covariance))\n",
      "File \u001b[0;32m~/miniconda3/envs/vri/lib/python3.11/site-packages/scipy/optimize/_minpack_py.py:864\u001b[0m, in \u001b[0;36mcurve_fit\u001b[0;34m(f, xdata, ydata, p0, sigma, absolute_sigma, check_finite, bounds, method, jac, full_output, **kwargs)\u001b[0m\n\u001b[1;32m    862\u001b[0m     cost \u001b[39m=\u001b[39m np\u001b[39m.\u001b[39msum(infodict[\u001b[39m'\u001b[39m\u001b[39mfvec\u001b[39m\u001b[39m'\u001b[39m] \u001b[39m*\u001b[39m\u001b[39m*\u001b[39m \u001b[39m2\u001b[39m)\n\u001b[1;32m    863\u001b[0m     \u001b[39mif\u001b[39;00m ier \u001b[39mnot\u001b[39;00m \u001b[39min\u001b[39;00m [\u001b[39m1\u001b[39m, \u001b[39m2\u001b[39m, \u001b[39m3\u001b[39m, \u001b[39m4\u001b[39m]:\n\u001b[0;32m--> 864\u001b[0m         \u001b[39mraise\u001b[39;00m \u001b[39mRuntimeError\u001b[39;00m(\u001b[39m\"\u001b[39m\u001b[39mOptimal parameters not found: \u001b[39m\u001b[39m\"\u001b[39m \u001b[39m+\u001b[39m errmsg)\n\u001b[1;32m    865\u001b[0m \u001b[39melse\u001b[39;00m:\n\u001b[1;32m    866\u001b[0m     \u001b[39m# Rename maxfev (leastsq) to max_nfev (least_squares), if specified.\u001b[39;00m\n\u001b[1;32m    867\u001b[0m     \u001b[39mif\u001b[39;00m \u001b[39m'\u001b[39m\u001b[39mmax_nfev\u001b[39m\u001b[39m'\u001b[39m \u001b[39mnot\u001b[39;00m \u001b[39min\u001b[39;00m kwargs:\n",
      "\u001b[0;31mRuntimeError\u001b[0m: Optimal parameters not found: Number of calls to function has reached maxfev = 800."
     ]
    }
   ],
   "source": [
    "# take the subset of the data at ~1360 days:\n",
    "data_1 = data[data['time'] < 1370.0]\n",
    "calc_params(data_1, F_SSA)"
   ]
  },
  {
   "cell_type": "markdown",
   "metadata": {},
   "source": [
    "Define a prior that imposes the following conditions on our fit. We will input the paramters into the prior as a tuple.\n",
    "- $K_1$\n",
    "- $K_2$\n",
    "- $p$"
   ]
  },
  {
   "cell_type": "code",
   "execution_count": null,
   "metadata": {},
   "outputs": [],
   "source": [
    "# uniform prior:\n",
    "def lnprior(theta):\n",
    "    K1, K2, p = theta\n",
    "    return 0.0"
   ]
  },
  {
   "cell_type": "markdown",
   "metadata": {},
   "source": [
    "We will now write a likelihood function that takes the SED parameters inside the tuple theta, along with the observed data."
   ]
  },
  {
   "cell_type": "code",
   "execution_count": null,
   "metadata": {},
   "outputs": [],
   "source": [
    "# F is the flux densities from the data\n",
    "# F_err are the rms values from the data\n",
    "def lnlike(theta, nu, F, F_err):\n",
    "    K1, K2, p = theta\n",
    "\n",
    "    model = F_SSA(nu, K1, K2, p)\n",
    "    inv_sigma2 = 1.0/F_err**2\n",
    "\n",
    "    return -0.5*(np.sum((F-model)**2*inv_sigma2 - np.log(inv_sigma2)))"
   ]
  },
  {
   "cell_type": "markdown",
   "metadata": {},
   "source": [
    "Now write a function to calculate the marginal probability using the lnlike() and lnprior() functions you calculated above"
   ]
  },
  {
   "cell_type": "code",
   "execution_count": null,
   "metadata": {},
   "outputs": [],
   "source": [
    "def lnprob(theta, nu, F, F_err):\n",
    "    lp = lnprior(theta)\n",
    "\n",
    "    if not np.isfinite(lp):\n",
    "        return -np.inf\n",
    "\n",
    "    return lp + lnlike(theta, nu, F, F_err)"
   ]
  },
  {
   "cell_type": "code",
   "execution_count": 62,
   "metadata": {},
   "outputs": [],
   "source": [
    "def get_starting_pos(nwalkers, ndim=3):\n",
    "    K1 = 100\n",
    "    K2 = 150\n",
    "    p = 1\n",
    "    \n",
    "    pos = [np.asarray([K1, K2, p]) + 1e-4*np.random.randn(ndim) for i in range(nwalkers)]\n",
    "    \n",
    "    return pos"
   ]
  }
 ],
 "metadata": {
  "kernelspec": {
   "display_name": "vri",
   "language": "python",
   "name": "python3"
  },
  "language_info": {
   "codemirror_mode": {
    "name": "ipython",
    "version": 3
   },
   "file_extension": ".py",
   "mimetype": "text/x-python",
   "name": "python",
   "nbconvert_exporter": "python",
   "pygments_lexer": "ipython3",
   "version": "3.11.3"
  },
  "orig_nbformat": 4
 },
 "nbformat": 4,
 "nbformat_minor": 2
}
