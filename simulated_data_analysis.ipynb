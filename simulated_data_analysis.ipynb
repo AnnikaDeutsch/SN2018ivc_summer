{
 "cells": [
  {
   "attachments": {},
   "cell_type": "markdown",
   "metadata": {},
   "source": [
    "# Import relevant packages"
   ]
  },
  {
   "cell_type": "code",
   "execution_count": 77,
   "metadata": {},
   "outputs": [],
   "source": [
    "import numpy as np\n",
    "import matplotlib.pyplot as plt\n",
    "import emcee\n",
    "from astropy.io import ascii\n",
    "import corner\n",
    "import os\n",
    "from timeit import default_timer as timer\n",
    "import matplotlib.colors as colors\n",
    "import matplotlib.cm as cmx\n",
    "import matplotlib.lines as mlines\n",
    "from scipy.optimize import least_squares, curve_fit\n",
    "from scipy.stats import f\n",
    "from astropy.table import Table"
   ]
  },
  {
   "attachments": {},
   "cell_type": "markdown",
   "metadata": {},
   "source": [
    "# Simulate data\n",
    "Simulate data with a smooth broken power law, with injected noise, following the model below:\n",
    "\n",
    "$S_\\nu(t) = S_{\\rm \\nu,peak} \\left[ \\left(\\dfrac{t}{t_{\\rm peak}}\\right)^{-s\\delta_1} + \\left(\\dfrac{t}{t_{\\rm peak}}\\right)^{-s\\delta_2}\\right]^{-1/s}$\n",
    "\n",
    "Let us assume that all of our data is in a narrow enough frequency band that we do not have to consider the power law spectrum:\n",
    "\n",
    "$ S_\\nu(\\nu) \\propto \\nu^\\alpha$\n"
   ]
  },
  {
   "cell_type": "code",
   "execution_count": 91,
   "metadata": {},
   "outputs": [
    {
     "data": {
      "text/html": [
       "<div><i>Table length=100</i>\n",
       "<table id=\"table139723106049744\" class=\"table-striped table-bordered table-condensed\">\n",
       "<thead><tr><th>time</th><th>flux</th></tr></thead>\n",
       "<thead><tr><th>float64</th><th>float64</th></tr></thead>\n",
       "<tr><td>1.0</td><td>1.8017190401259018</td></tr>\n",
       "<tr><td>1.0722672220103233</td><td>2.5382170380740345</td></tr>\n",
       "<tr><td>1.1497569953977358</td><td>2.5015310806345377</td></tr>\n",
       "<tr><td>1.2328467394420661</td><td>-1.9488839758591578</td></tr>\n",
       "<tr><td>1.321941148466029</td><td>-0.2498377169905026</td></tr>\n",
       "<tr><td>1.4174741629268053</td><td>-1.932568081505606</td></tr>\n",
       "<tr><td>1.5199110829529336</td><td>0.6571538785280979</td></tr>\n",
       "<tr><td>1.6297508346206442</td><td>4.493989380184686</td></tr>\n",
       "<tr><td>1.7475284000076838</td><td>2.0080407289292728</td></tr>\n",
       "<tr><td>1.8738174228603839</td><td>2.3303135443569705</td></tr>\n",
       "<tr><td>...</td><td>...</td></tr>\n",
       "<tr><td>533.6699231206312</td><td>43.261896910364406</td></tr>\n",
       "<tr><td>572.236765935022</td><td>45.356419000390076</td></tr>\n",
       "<tr><td>613.5907273413176</td><td>38.71646826860618</td></tr>\n",
       "<tr><td>657.9332246575682</td><td>26.662276289026426</td></tr>\n",
       "<tr><td>705.4802310718645</td><td>15.575827991370906</td></tr>\n",
       "<tr><td>756.463327554629</td><td>31.066766409583057</td></tr>\n",
       "<tr><td>811.1308307896873</td><td>19.692952537731802</td></tr>\n",
       "<tr><td>869.7490026177834</td><td>0.8650771354974225</td></tr>\n",
       "<tr><td>932.60334688322</td><td>7.154373230483845</td></tr>\n",
       "<tr><td>1000.0</td><td>23.81912314559131</td></tr>\n",
       "</table></div>"
      ],
      "text/plain": [
       "<Table length=100>\n",
       "       time                flux       \n",
       "     float64             float64      \n",
       "------------------ -------------------\n",
       "               1.0  1.8017190401259018\n",
       "1.0722672220103233  2.5382170380740345\n",
       "1.1497569953977358  2.5015310806345377\n",
       "1.2328467394420661 -1.9488839758591578\n",
       " 1.321941148466029 -0.2498377169905026\n",
       "1.4174741629268053  -1.932568081505606\n",
       "1.5199110829529336  0.6571538785280979\n",
       "1.6297508346206442   4.493989380184686\n",
       "1.7475284000076838  2.0080407289292728\n",
       "1.8738174228603839  2.3303135443569705\n",
       "               ...                 ...\n",
       " 533.6699231206312  43.261896910364406\n",
       "  572.236765935022  45.356419000390076\n",
       " 613.5907273413176   38.71646826860618\n",
       " 657.9332246575682  26.662276289026426\n",
       " 705.4802310718645  15.575827991370906\n",
       "  756.463327554629  31.066766409583057\n",
       " 811.1308307896873  19.692952537731802\n",
       " 869.7490026177834  0.8650771354974225\n",
       "   932.60334688322   7.154373230483845\n",
       "            1000.0   23.81912314559131"
      ]
     },
     "execution_count": 91,
     "metadata": {},
     "output_type": "execute_result"
    }
   ],
   "source": [
    "# define smooth broken power law function\n",
    "def smooth_broken_power_law(t, S_peak, t_peak, delta_1, delta_2, log_s):\n",
    "    s = 10**log_s\n",
    "    y = S_peak*((t/t_peak)**(-s*delta_1) + (t/t_peak)**(-s*delta_2))**(-1/s)\n",
    "    return y\n",
    "\n",
    "# define our input parameters\n",
    "t = np.logspace(0, 3, 100)\n",
    "S_peak = 100\n",
    "t_peak = 150\n",
    "delta_1 = 1.1\n",
    "delta_2 = -0.8\n",
    "log_s = 0.5\n",
    "\n",
    "# generate smooth broken power law\n",
    "true_relation = smooth_broken_power_law(t, S_peak, t_peak, delta_1, delta_2, log_s)\n",
    "\n",
    "# inject gaussian noise \n",
    "ltnoise = np.random.normal(scale= 2, size=len(t))\n",
    "gtnoise = np.random.normal(scale= 15, size=len(t))\n",
    "# noise = np.random.uniform(-1, 1, len(t))\n",
    "\n",
    "table = np.column_stack((t, true_relation))\n",
    "data = Table(table, names=['time', 'flux'])\n",
    "for i in range(0,len(data['time'])):\n",
    "    if data['flux'][i] < 10:\n",
    "        data['flux'][i] = data['flux'][i] + ltnoise[i]\n",
    "    else:\n",
    "        data['flux'][i] = data['flux'][i] + gtnoise[i]\n",
    "\n",
    "# add some reasonable errors\n",
    "err = 0.1*true_relation + np.random.normal(scale= 0.1, size=len(t))\n",
    "\n",
    "data"
   ]
  },
  {
   "attachments": {},
   "cell_type": "markdown",
   "metadata": {},
   "source": [
    "# Make a plot of the lightcurve\n",
    "follow the same modular procedure as in the <span style=\"text-decoration: underline;\">Radio Light Curve Module</span> notebook"
   ]
  },
  {
   "cell_type": "code",
   "execution_count": 92,
   "metadata": {},
   "outputs": [
    {
     "data": {
      "image/png": "[encoded data removed]",
      "text/plain": [
       "<Figure size 1000x600 with 1 Axes>"
      ]
     },
     "metadata": {},
     "output_type": "display_data"
    }
   ],
   "source": [
    "def plot_data(ax, data, scaled=False, **kwargs):\n",
    "    for row in data:\n",
    "        time = row['time']\n",
    "        \n",
    "        if scaled:\n",
    "            flux = row['scaled_flux']\n",
    "            #rms = row['scaled_rms']\n",
    "        else:\n",
    "            flux = row['flux']\n",
    "            #rms = row['rms']\n",
    "\n",
    "        ax.scatter(time, flux, color='purple', marker='o')\n",
    "    return\n",
    "\n",
    "def make_plot(data, scaled=False, model=None, params=None, tvals=np.arange(10,400), plot_models=False):\n",
    "    fig = plt.figure(figsize=(10,6))\n",
    "    ax = fig.add_subplot(111)\n",
    "\n",
    "    plot_data(ax, data, scaled=scaled)\n",
    "\n",
    "    # set axis scales to log\n",
    "    ax.set_yscale('log')\n",
    "    ax.set_xscale('log')\n",
    "\n",
    "    #Label axes, set axis limits etc.\n",
    "    ax.set_xlabel('Time (days)')\n",
    "    if scaled:\n",
    "        ax.set_ylabel('Scaled Flux Density ($\\mu$Jy)')\n",
    "        ax.set_title('Scaled to 3 GHz')\n",
    "    else:\n",
    "        ax.set_ylabel('Flux Density ($\\mu$Jy)')\n",
    "\n",
    "make_plot(data)"
   ]
  },
  {
   "attachments": {},
   "cell_type": "markdown",
   "metadata": {},
   "source": [
    "# Determing and scaling data based on spectral index\n",
    "If we had information across frequencies, we would perform this step. I will skip this step for now and just assume the 'data' is scaled to one frequency."
   ]
  },
  {
   "attachments": {},
   "cell_type": "markdown",
   "metadata": {},
   "source": [
    "# Fitting the data \n",
    "We will now try to fit our simulated data to two models, one with a turnover, and another without. We will perform an MCMC  fit using the [`emcee`](http://dfm.io/emcee/current/) package to determine the lightcurve parameters of our data. \n",
    "\n",
    "One point of confusion for me is how to decide a good prior, probability, and likelihood. Of course, we know that $\\delta_1>0$, and $\\delta_2<0$, and I suppose we'll want to impose, for the turnover model, that $0<t_{peak}<1000$, as our simulated data only goes this far.\n",
    "\n",
    "For now I will use the functions in the <span style=\"text-decoration: underline;\">Radio Light Curve Module</span> notebook blindly until we can discuss this further"
   ]
  },
  {
   "cell_type": "code",
   "execution_count": 93,
   "metadata": {},
   "outputs": [],
   "source": [
    "def lnprior(theta):\n",
    "    F_peak, t_peak, delta_1, delta_2, log_s = theta\n",
    "\n",
    "    if 0.0 < t_peak < 1000.0 and delta_1 > 0.0 and delta_2 < 0.0 and log_s < 3:\n",
    "        return 0.0\n",
    "    \n",
    "    else:\n",
    "        return -np.inf"
   ]
  },
  {
   "cell_type": "code",
   "execution_count": 95,
   "metadata": {},
   "outputs": [],
   "source": [
    "def lnlike(theta, t, S):\n",
    "    F_peak, t_peak, delta_1, delta_2, log_s = theta\n",
    "\n",
    "    model = smooth_broken_power_law(t, F_peak, t_peak, delta_1, delta_2, log_s)\n",
    "\n",
    "    return -0.5*(np.sum((S-model)**2))"
   ]
  },
  {
   "cell_type": "code",
   "execution_count": null,
   "metadata": {},
   "outputs": [],
   "source": [
    "def lnprob(theta, t, S):\n",
    "    lp = lnprior(theta)\n",
    "\n",
    "    if not np.isfinite(lp):\n",
    "        return -np.inf\n",
    "\n",
    "    return lp + lnlike(theta, t, S)"
   ]
  }
 ],
 "metadata": {
  "kernelspec": {
   "display_name": "vri",
   "language": "python",
   "name": "python3"
  },
  "language_info": {
   "codemirror_mode": {
    "name": "ipython",
    "version": 3
   },
   "file_extension": ".py",
   "mimetype": "text/x-python",
   "name": "python",
   "nbconvert_exporter": "python",
   "pygments_lexer": "ipython3",
   "version": "3.11.3"
  },
  "orig_nbformat": 4
 },
 "nbformat": 4,
 "nbformat_minor": 2
}
