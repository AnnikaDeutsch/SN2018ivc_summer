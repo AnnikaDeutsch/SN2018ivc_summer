{
 "cells": [
  {
   "attachments": {},
   "cell_type": "markdown",
   "metadata": {},
   "source": [
    "# Import Relevant Packages"
   ]
  },
  {
   "cell_type": "code",
   "execution_count": 3,
   "metadata": {},
   "outputs": [],
   "source": [
    "import numpy as np\n",
    "import matplotlib.pyplot as plt\n",
    "import emcee\n",
    "from astropy.io import ascii\n",
    "import corner\n",
    "import os\n",
    "from timeit import default_timer as timer\n",
    "import matplotlib.colors as colors\n",
    "import matplotlib.cm as cmx\n",
    "import matplotlib.lines as mlines\n",
    "from scipy.optimize import least_squares, curve_fit\n",
    "from scipy.stats import f\n",
    "from astropy.table import Table"
   ]
  },
  {
   "attachments": {},
   "cell_type": "markdown",
   "metadata": {},
   "source": [
    "# Simulate data\n",
    "Simulate data with a smooth broken power law, with injected noise, following the model below:\n",
    "\n",
    "$S_\\nu(t) = S_{\\rm \\nu,peak} \\left[ \\left(\\dfrac{t}{t_{\\rm peak}}\\right)^{-s\\delta_1} + \\left(\\dfrac{t}{t_{\\rm peak}}\\right)^{-s\\delta_2}\\right]^{-1/s}$\n",
    "\n",
    "Let us assume that all of our data is in a narrow enough frequency band that we do not have to consider the power law spectrum:\n",
    "\n",
    "$ S_\\nu(\\nu) \\propto \\nu^\\alpha$\n"
   ]
  },
  {
   "cell_type": "code",
   "execution_count": 4,
   "metadata": {},
   "outputs": [
    {
     "data": {
      "text/html": [
       "<div><i>Table length=100</i>\n",
       "<table id=\"table140145855058512\" class=\"table-striped table-bordered table-condensed\">\n",
       "<thead><tr><th>time</th><th>flux</th><th>rms</th></tr></thead>\n",
       "<thead><tr><th>float64</th><th>float64</th><th>float64</th></tr></thead>\n",
       "<tr><td>1.0</td><td>3.918851774353012</td><td>351.4927814740719</td></tr>\n",
       "<tr><td>1.0722672220103233</td><td>0.33747058627510806</td><td>9.867647278330084</td></tr>\n",
       "<tr><td>1.1497569953977358</td><td>1.9832413117973244</td><td>151.23005503037876</td></tr>\n",
       "<tr><td>1.2328467394420661</td><td>1.151592663884879</td><td>64.30825266964769</td></tr>\n",
       "<tr><td>1.321941148466029</td><td>1.5584582820731911</td><td>100.93816661453248</td></tr>\n",
       "<tr><td>1.4174741629268053</td><td>-0.03422883793363929</td><td>62.71081300274567</td></tr>\n",
       "<tr><td>1.5199110829529336</td><td>-3.0489074540070265</td><td>368.90837878682936</td></tr>\n",
       "<tr><td>1.6297508346206442</td><td>-1.475716371121123</td><td>216.69628759344118</td></tr>\n",
       "<tr><td>1.7475284000076838</td><td>0.09285023877904686</td><td>65.35405681639897</td></tr>\n",
       "<tr><td>1.8738174228603839</td><td>3.191885042099425</td><td>238.59507873729174</td></tr>\n",
       "<tr><td>...</td><td>...</td><td>...</td></tr>\n",
       "<tr><td>533.6699231206312</td><td>20.54743541781559</td><td>10.548862692620917</td></tr>\n",
       "<tr><td>572.236765935022</td><td>32.679852960992996</td><td>220.6223889992569</td></tr>\n",
       "<tr><td>613.5907273413176</td><td>34.00856074800563</td><td>47.829083136755244</td></tr>\n",
       "<tr><td>657.9332246575682</td><td>10.424206295872835</td><td>30.34969208283893</td></tr>\n",
       "<tr><td>705.4802310718645</td><td>65.45394736058094</td><td>93.76233918485643</td></tr>\n",
       "<tr><td>756.463327554629</td><td>21.136331915047545</td><td>361.04258803407123</td></tr>\n",
       "<tr><td>811.1308307896873</td><td>10.311244443604062</td><td>254.36519051122252</td></tr>\n",
       "<tr><td>869.7490026177834</td><td>27.08856511029655</td><td>4.101148436916474</td></tr>\n",
       "<tr><td>932.60334688322</td><td>29.184793074739797</td><td>105.92332626718229</td></tr>\n",
       "<tr><td>1000.0</td><td>-3.713526215085711</td><td>16.796080381033974</td></tr>\n",
       "</table></div>"
      ],
      "text/plain": [
       "<Table length=100>\n",
       "       time                flux                rms        \n",
       "     float64             float64             float64      \n",
       "------------------ -------------------- ------------------\n",
       "               1.0    3.918851774353012  351.4927814740719\n",
       "1.0722672220103233  0.33747058627510806  9.867647278330084\n",
       "1.1497569953977358   1.9832413117973244 151.23005503037876\n",
       "1.2328467394420661    1.151592663884879  64.30825266964769\n",
       " 1.321941148466029   1.5584582820731911 100.93816661453248\n",
       "1.4174741629268053 -0.03422883793363929  62.71081300274567\n",
       "1.5199110829529336  -3.0489074540070265 368.90837878682936\n",
       "1.6297508346206442   -1.475716371121123 216.69628759344118\n",
       "1.7475284000076838  0.09285023877904686  65.35405681639897\n",
       "1.8738174228603839    3.191885042099425 238.59507873729174\n",
       "               ...                  ...                ...\n",
       " 533.6699231206312    20.54743541781559 10.548862692620917\n",
       "  572.236765935022   32.679852960992996  220.6223889992569\n",
       " 613.5907273413176    34.00856074800563 47.829083136755244\n",
       " 657.9332246575682   10.424206295872835  30.34969208283893\n",
       " 705.4802310718645    65.45394736058094  93.76233918485643\n",
       "  756.463327554629   21.136331915047545 361.04258803407123\n",
       " 811.1308307896873   10.311244443604062 254.36519051122252\n",
       " 869.7490026177834    27.08856511029655  4.101148436916474\n",
       "   932.60334688322   29.184793074739797 105.92332626718229\n",
       "            1000.0   -3.713526215085711 16.796080381033974"
      ]
     },
     "execution_count": 4,
     "metadata": {},
     "output_type": "execute_result"
    }
   ],
   "source": [
    "# define smooth broken power law function\n",
    "def smooth_broken_power_law(t, S_peak, t_peak, delta_1, delta_2, log_s):\n",
    "    s = 10**log_s\n",
    "    y = S_peak*((t/t_peak)**(-s*delta_1) + (t/t_peak)**(-s*delta_2))**(-1/s)\n",
    "    return y\n",
    "\n",
    "# define our input parameters\n",
    "t = np.logspace(0, 3, 100)\n",
    "S_peak = 100\n",
    "t_peak = 150\n",
    "delta_1 = 1.1\n",
    "delta_2 = -0.8\n",
    "log_s = 0.5\n",
    "\n",
    "# generate smooth broken power law\n",
    "true_relation = smooth_broken_power_law(t, S_peak, t_peak, delta_1, delta_2, log_s)\n",
    "\n",
    "# inject gaussian noise \n",
    "ltnoise = np.random.normal(scale= 2, size=len(t))\n",
    "gtnoise = np.random.normal(scale= 15, size=len(t))\n",
    "\n",
    "# I will not add any errors for now as I am not sure how to deal with scaling the errors with the log scale\n",
    "# err = np.random.normal(loc= 1, scale= 0.1, size=len(t))\n",
    "\n",
    "table = np.column_stack((t, true_relation, 100*abs(ltnoise)))\n",
    "data = Table(table, names=['time', 'flux', 'rms'])\n",
    "for i in range(0,len(data['time'])):\n",
    "    if data['flux'][i] < 10:\n",
    "        data['flux'][i] = data['flux'][i] + ltnoise[i]\n",
    "    else:\n",
    "        data['flux'][i] = data['flux'][i] + gtnoise[i]\n",
    "\n",
    "data"
   ]
  },
  {
   "attachments": {},
   "cell_type": "markdown",
   "metadata": {},
   "source": [
    "# Make a plot of the lightcurve\n",
    "follow the same modular procedure as in the <span style=\"text-decoration: underline;\">Radio Light Curve Module</span> notebook"
   ]
  },
  {
   "cell_type": "code",
   "execution_count": 5,
   "metadata": {},
   "outputs": [
    {
     "data": {
      "image/png": "[encoded data removed]",
      "text/plain": [
       "<Figure size 1000x600 with 1 Axes>"
      ]
     },
     "metadata": {},
     "output_type": "display_data"
    }
   ],
   "source": [
    "def plot_data(ax, data, scaled=False, **kwargs):\n",
    "    for row in data:\n",
    "        time = row['time']\n",
    "        \n",
    "        if scaled:\n",
    "            flux = row['scaled_flux']\n",
    "            # rms = row['scaled_rms']\n",
    "        else:\n",
    "            flux = row['flux']\n",
    "            # rms = row['rms']\n",
    "\n",
    "        ax.scatter(time, flux, color='purple', marker='o')\n",
    "    return\n",
    "\n",
    "def make_plot(data, scaled=False, model=None, params=None, tvals=np.arange(10,400), plot_models=False):\n",
    "    fig = plt.figure(figsize=(10,6))\n",
    "    ax = fig.add_subplot(111)\n",
    "\n",
    "    plot_data(ax, data, scaled=scaled)\n",
    "\n",
    "    # set axis scales to log\n",
    "    ax.set_yscale('log')\n",
    "    ax.set_xscale('log')\n",
    "\n",
    "    #Label axes, set axis limits etc.\n",
    "    ax.set_xlabel('Time (days)')\n",
    "    if scaled:\n",
    "        ax.set_ylabel('Scaled Flux Density ($\\mu$Jy)')\n",
    "        ax.set_title('Scaled to 3 GHz')\n",
    "    else:\n",
    "        ax.set_ylabel('Flux Density ($\\mu$Jy)')\n",
    "\n",
    "    if model!=None:\n",
    "        plot_model(model, params, data['time'], ax)\n",
    "\n",
    "make_plot(data)"
   ]
  },
  {
   "attachments": {},
   "cell_type": "markdown",
   "metadata": {},
   "source": [
    "# Determing and scaling data based on spectral index\n",
    "If we had information across frequencies, we would perform this step. I will skip this step for now and just assume the 'data' is scaled to one frequency."
   ]
  },
  {
   "attachments": {},
   "cell_type": "markdown",
   "metadata": {},
   "source": [
    "# Fitting the data with MCMC and determining evidence for a turnover\n",
    "We will now try to fit our simulated data to two models, one with a turnover, and another without. We will perform an MCMC  fit using the [`lmfit`](https://lmfit.github.io/lmfit-py/) package to determine the lightcurve parameters of our data. "
   ]
  },
  {
   "cell_type": "code",
   "execution_count": null,
   "metadata": {},
   "outputs": [],
   "source": []
  }
 ],
 "metadata": {
  "kernelspec": {
   "display_name": "vri",
   "language": "python",
   "name": "python3"
  },
  "language_info": {
   "codemirror_mode": {
    "name": "ipython",
    "version": 3
   },
   "file_extension": ".py",
   "mimetype": "text/x-python",
   "name": "python",
   "nbconvert_exporter": "python",
   "pygments_lexer": "ipython3",
   "version": "3.11.3"
  },
  "orig_nbformat": 4
 },
 "nbformat": 4,
 "nbformat_minor": 2
}
