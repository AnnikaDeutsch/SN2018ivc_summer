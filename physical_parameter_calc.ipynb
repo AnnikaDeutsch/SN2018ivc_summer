{
 "cells": [
  {
   "cell_type": "markdown",
   "metadata": {},
   "source": [
    "## Import Packages:"
   ]
  },
  {
   "cell_type": "code",
   "execution_count": 2,
   "metadata": {},
   "outputs": [],
   "source": [
    "import numpy as np\n",
    "import matplotlib.pyplot as plt\n",
    "import emcee\n",
    "from astropy.io import ascii\n",
    "import corner\n",
    "import os\n",
    "from timeit import default_timer as timer\n",
    "import matplotlib.colors as colors\n",
    "import matplotlib.cm as cmx\n",
    "import matplotlib.lines as mlines\n",
    "from scipy.optimize import least_squares, curve_fit\n",
    "from scipy.stats import f\n",
    "from astropy.table import Table, vstack\n",
    "import pandas as pd\n",
    "import lmfit\n",
    "from matplotlib import rcParams\n",
    "from matplotlib.colors import LinearSegmentedColormap"
   ]
  },
  {
   "cell_type": "markdown",
   "metadata": {},
   "source": [
    "## Define relations to calculate B, R, and Mdot:"
   ]
  },
  {
   "cell_type": "markdown",
   "metadata": {},
   "source": [
    "SSA dominant absorption:"
   ]
  },
  {
   "cell_type": "code",
   "execution_count": 3,
   "metadata": {},
   "outputs": [],
   "source": [
    "# B field calculation for SSA dominated absorption\n",
    "def B_peak_SSA(p, F_p, D, nu_p, F_p_scale, D_scale, nu_p_scale):\n",
    "    power = (-4 / ((2 * p) + 13))\n",
    "    B = 0.58 * ((p - 2)**power) * ((F_p/F_p_scale)**(power/2)) * ((D/D_scale)**power) * (nu_p/nu_p_scale)\n",
    "    return B\n",
    "\n",
    "# shock radius for SSA dominated absorption\n",
    "def R_peak_SSA(p, F_p, D, nu_p, F_p_scale, D_scale, nu_p_scale):\n",
    "    R = 8.8*10**15 * ((p - 2)**(-1 / ((2 * p) + 13))) * ((F_p/F_p_scale)**((p + 6)/((2 * p) + 13))) * ((D/D_scale)**(((2 * p) + 12)/((2 * p) + 13))) * ((nu_p/nu_p_scale)**(-1))\n",
    "    return R\n",
    "\n",
    "# mass loss rate at a given epoch for SSA dominated absorption\n",
    "def Mdot_peak_SSA(m_H, B, t, v_wind, B_scale, t_scale, v_wind_scale):\n",
    "    Mdot = ((6*10**(-7))/(m_H**2)) * ((B/B_scale)**2) * ((t/t_scale)**2) * ((v_wind/v_wind_scale))\n",
    "    return Mdot"
   ]
  },
  {
   "cell_type": "markdown",
   "metadata": {},
   "source": [
    "FFA dominant absorption:"
   ]
  },
  {
   "cell_type": "code",
   "execution_count": 5,
   "metadata": {},
   "outputs": [],
   "source": [
    "# mass loss rate at a given epoch for FFA dominated absorption, assuming fully, singly ionized wind\n",
    "def Mdot_peak_FFA(tau, v_ej, t, T_e, v_wind, v_ej_scale, t_scale, T_e_scale, v_wind_scale):\n",
    "    Mdot = (4.76 * 10**(-5)) * (tau**(0.5)) * ((v_ej/v_ej_scale)**1.5) * ((t/t_scale)**1.5) * ((T_e/T_e_scale)**0.675) * (v_wind/v_wind_scale)\n",
    "    return Mdot"
   ]
  },
  {
   "cell_type": "markdown",
   "metadata": {},
   "source": [
    "Mass loss rate considering multiple absorption components from Chandra et al. 2020:"
   ]
  },
  {
   "cell_type": "code",
   "execution_count": 28,
   "metadata": {},
   "outputs": [],
   "source": [
    "def Mdot_peak_mult(nu_p, T_e, v_ej, t):\n",
    "    vw1 = 2\n",
    "    Mdot_scale = 10**-3\n",
    "    Mdot = Mdot_scale * vw1 * (7.5*10**-2) * ((nu_p)**1.06) * ((T_e/(10**4))**0.67) * (v_ej/(10**4)) * ((t/1000)**1.5)\n",
    "    return Mdot "
   ]
  },
  {
   "cell_type": "markdown",
   "metadata": {},
   "source": [
    "Synchrotron cooling dominant:"
   ]
  },
  {
   "cell_type": "code",
   "execution_count": 57,
   "metadata": {},
   "outputs": [],
   "source": [
    "def nu_syn(epsilon_B, Mdot, v_wind, t, epsilon_B_scale, Mdot_scale, v_wind_scale):\n",
    "    nu_syn = 240.0 * ((epsilon_B/epsilon_B_scale)**(-3.0/2.0)) * ((Mdot/Mdot_scale)**(-3.0/2.0)) * ((v_wind/v_wind_scale)**(3.0/2.0)) * (t/60.0)\n",
    "    return nu_syn\n",
    "\n",
    "def t_syn_ratio(epsilon_B, Mdot, v_wind, nu, t, epsilon_B_scale, Mdot_scale, v_wind_scale, nu_scale):\n",
    "    t_syn_ratio = 2.0 * ((epsilon_B/epsilon_B_scale)**(-3.0/4.0)) * ((Mdot/Mdot_scale)**(-3.0/4.0)) * ((v_wind/v_wind_scale)**(3.0/4.0)) * ((nu/nu_scale)**(-0.5)) * ((t/10.0)**(0.5))\n",
    "    return t_syn_ratio"
   ]
  },
  {
   "cell_type": "markdown",
   "metadata": {},
   "source": [
    "Inverse Compton cooling dominant:"
   ]
  },
  {
   "cell_type": "code",
   "execution_count": 59,
   "metadata": {},
   "outputs": [],
   "source": [
    "def nu_IC(epsilon_B, Mdot, v_wind, v_ej, L_bol, t, epsilon_B_scale, Mdot_scale, v_wind_scale, v_ej_scale, L_bol_scale):\n",
    "    nu_IC = 8.0 * ((epsilon_B/epsilon_B_scale)**(0.5)) * ((Mdot/Mdot_scale)**(0.5)) * ((v_wind/v_wind_scale)**(-0.5)) * ((v_ej/v_ej_scale)**(4.0)) * (L_bol/L_bol_scale) * (t/60.0)\n",
    "    return nu_IC\n",
    "\n",
    "def t_IC_ratio(L_bol, epsilon_B, Mdot, v_wind, v_ej, nu, t, L_bol_scale, epsilon_B_scale, Mdot_scale, v_wind_scale, v_ej_scale, nu_scale):\n",
    "    t_IC_ratio = 0.18 * ((L_bol/L_bol_scale)**(-1.0)) * ((epsilon_B/epsilon_B_scale)**(1.0/4.0)) * ((Mdot/Mdot_scale)**(1.0/4.0)) * ((v_wind/v_wind_scale)**(-1.0/4.0)) * ((v_ej/v_ej_scale)**(2.0)) * ((nu/nu_scale)**(-0.5)) * ((t/10.0)**(0.5))\n",
    "    return t_IC_ratio"
   ]
  },
  {
   "cell_type": "markdown",
   "metadata": {},
   "source": [
    "## Load in physical parameter values to use in calculations:"
   ]
  },
  {
   "cell_type": "markdown",
   "metadata": {},
   "source": [
    "Load in model-independent parameters:"
   ]
  },
  {
   "cell_type": "code",
   "execution_count": 60,
   "metadata": {},
   "outputs": [],
   "source": [
    "# physical values:\n",
    "D = 10.1 # in Mpc, as adopted by Maeda et al. 2023 and Boestrom et al. 2020\n",
    "D_err = 1.8 # ^^\n",
    "v_wind = 20 # km/s, use 20 b/c it is used in Maeda+2023a\n",
    "v_ej = 7000 # km/s, adopted from Boestrom et al. 2020\n",
    "T_e = 10**5 # K, standard value to adopt\n",
    "epsilon_B = 0.012 # from Maeda+2023a, Model A\n",
    "m_H = 1 # fractional mass, normalize so that it's 1\n",
    "#m_H = 1.67 * 10**(-24)# mass of Hydrogen in grams\n",
    "# L_bol = ??\n",
    "\n",
    "# scale factors:\n",
    "F_p_scale = 1 # Jy\n",
    "D_scale = 1 # Mpc\n",
    "nu_p_scale = 10 # GHz, consistent with scale used for fitting\n",
    "v_wind_scale = 10 # km/s, should this be the same or different from the actual value adopted?\n",
    "v_ej_scale = 10**4 # km/s\n",
    "T_e_scale = 10**5 # K\n",
    "t_scale = 100 # days, adapt to be consistent for whatever formula\n",
    "epsilon_B_scale = 0.1\n",
    "B_scale = 1 # Gauss\n",
    "# Mdot_scale = ??\n",
    "L_bol_scale = 10.0**42.0 # erg/s"
   ]
  },
  {
   "cell_type": "markdown",
   "metadata": {},
   "source": [
    "Load in the parameter info for SSA dominant absorption:"
   ]
  },
  {
   "cell_type": "code",
   "execution_count": 25,
   "metadata": {},
   "outputs": [],
   "source": [
    "# both epochs:\n",
    "p = 3.30\n",
    "\n",
    "# ~1360 days:\n",
    "nu_p_SSA_early = 11.91\n",
    "F_p_SSA_early = 7.46\n",
    "\n",
    "# ~1700 days:\n",
    "nu_p_SSA_late = 11.91\n",
    "F_p_SSA_late = 6.05"
   ]
  },
  {
   "cell_type": "markdown",
   "metadata": {},
   "source": [
    "Load in the parameter info for FFA dominant absorption:"
   ]
  },
  {
   "cell_type": "code",
   "execution_count": 27,
   "metadata": {},
   "outputs": [],
   "source": [
    "# define a function that just returns tau:\n",
    "def tau_FFA(freq, K2):\n",
    "    #scale the freqs by 10\n",
    "    tau = K2 * (freq/10.0)**(-2.1)\n",
    "    return tau\n",
    "\n",
    "# both epochs:\n",
    "alpha = 1.20\n",
    "\n",
    "# ~1360 days:\n",
    "K1_FFA_early = 13.71\n",
    "K2_FFA_early = 0.65\n",
    "tau_early_10GHz = tau_FFA(10, K2_FFA_early) # choose tau at 10 GHz, our scaling factor\n",
    "\n",
    "# peak freq and flux density at 1360 days:\n",
    "nu_p_FFA_early = 10.92\n",
    "F_p_FFA_early = 7.22\n",
    "\n",
    "# ~1700 days:\n",
    "K1_FFA_late = 11.30\n",
    "K2_FFA_late = 0.66\n",
    "tau_late_10GHz = tau_FFA(10, K2_FFA_late) # choose tau at 10 GHz, our scaling factor\n",
    "\n",
    "# peak freq and flux density at 1700 days:\n",
    "nu_p_FFA_late = 10.92\n",
    "F_p_FFA_late = 5.89"
   ]
  },
  {
   "cell_type": "markdown",
   "metadata": {},
   "source": [
    "## Calculations:"
   ]
  },
  {
   "cell_type": "markdown",
   "metadata": {},
   "source": [
    "Calculate B, R, Mdot for SSA:"
   ]
  },
  {
   "cell_type": "code",
   "execution_count": 62,
   "metadata": {},
   "outputs": [
    {
     "name": "stdout",
     "output_type": "stream",
     "text": [
      "{'B': (0.6654224933356119, 'Gauss'), 'R': (8.49011619817433e+16, 'cm'), 'Mdot': (9.827748122886751e-05, 'solar masses per year')}\n",
      "{'B': (0.6798005366260846, 'Gauss'), 'R': (7.686752790844421e+16, 'cm'), 'Mdot': (0.00016026625729627866, 'solar masses per year')}\n"
     ]
    }
   ],
   "source": [
    "# ~1360 days:\n",
    "t_early = 1360\n",
    "B_SSA_early = B_peak_SSA(p, F_p_SSA_early, D, nu_p_SSA_early, F_p_scale, D_scale, 5) # scale to 5 GHz, as in ref formula (Chandra 2018)\n",
    "R_SSA_early = R_peak_SSA(p, F_p_SSA_early, D, nu_p_SSA_early, F_p_scale, D_scale, 5) # scale to 5 GHz, as in ref formula (Chandra 2018)\n",
    "Mdot_SSA_early = Mdot_peak_SSA(m_H, B_SSA_early, t_early, v_wind, B_scale, t_scale, v_wind_scale)\n",
    "\n",
    "physical_params_SSA_early = {\n",
    "    'B':(B_SSA_early, 'Gauss'),\n",
    "    'R':(R_SSA_early, 'cm'),\n",
    "    'Mdot':(Mdot_SSA_early, 'solar masses per year')\n",
    "}\n",
    "\n",
    "# ~1700 days:\n",
    "t_late = 1700\n",
    "B_SSA_late = B_peak_SSA(p, F_p_SSA_late, D, nu_p_SSA_late, F_p_scale, D_scale, 5) # scale to 5 GHz, as in ref formula (Chandra 2018)\n",
    "R_SSA_late = R_peak_SSA(p, F_p_SSA_late, D, nu_p_SSA_late, F_p_scale, D_scale, 5) # scale to 5 GHz, as in ref formula (Chandra 2018)\n",
    "Mdot_SSA_late = Mdot_peak_SSA(m_H, B_SSA_late, t_late, v_wind, B_scale, t_scale, v_wind_scale)\n",
    "\n",
    "physical_params_SSA_late = {\n",
    "    'B':(B_SSA_late, 'Gauss'),\n",
    "    'R':(R_SSA_late, 'cm'),\n",
    "    'Mdot':(Mdot_SSA_late, 'solar masses per year')\n",
    "}\n",
    "\n",
    "print(physical_params_SSA_early)\n",
    "print(physical_params_SSA_late)"
   ]
  },
  {
   "cell_type": "markdown",
   "metadata": {},
   "source": [
    "Calculate ejecta velocities based on R and t at each epoch:"
   ]
  },
  {
   "cell_type": "code",
   "execution_count": 36,
   "metadata": {},
   "outputs": [
    {
     "data": {
      "text/plain": [
       "5233.355658254644"
      ]
     },
     "execution_count": 36,
     "metadata": {},
     "output_type": "execute_result"
    }
   ],
   "source": [
    "convert_cm_to_km = (1/100) * (1/1000)\n",
    "convert_days_to_s = (24) * (60) * (60)\n",
    "\n",
    "R_early = physical_params_SSA_early['R'][0]\n",
    "v_ej_early = (R_early / t_early) * convert_cm_to_km / convert_days_to_s\n",
    "\n",
    "R_late = physical_params_SSA_late['R'][0]\n",
    "v_ej_late = (R_late / t_late) * convert_cm_to_km / convert_days_to_s\n",
    "v_ej_late"
   ]
  },
  {
   "cell_type": "markdown",
   "metadata": {},
   "source": [
    "Calculate Mdot for FFA:"
   ]
  },
  {
   "cell_type": "code",
   "execution_count": 64,
   "metadata": {},
   "outputs": [
    {
     "data": {
      "text/plain": [
       "0.0025262754749625907"
      ]
     },
     "execution_count": 64,
     "metadata": {},
     "output_type": "execute_result"
    }
   ],
   "source": [
    "# ~1360 days:\n",
    "# calculate at peak:\n",
    "tau_peak = 1\n",
    "t_early = 1360\n",
    "Mdot_FFA_early = Mdot_peak_FFA(tau_peak, v_ej_early, t_early, T_e, v_wind, v_ej_scale, t_scale, T_e_scale, v_wind_scale)\n",
    "\n",
    "# ~1700 days:\n",
    "# calculate at peak:\n",
    "t_late = 1700\n",
    "Mdot_FFA_late = Mdot_peak_FFA(tau_peak, v_ej_late, t_late, T_e, v_wind, v_ej_scale, t_scale, T_e_scale, v_wind_scale)\n",
    "Mdot_FFA_late"
   ]
  },
  {
   "cell_type": "markdown",
   "metadata": {},
   "source": [
    "Calculate Mdot from Chandra et al. 2020, include multiple absorption components:"
   ]
  },
  {
   "cell_type": "code",
   "execution_count": 46,
   "metadata": {},
   "outputs": [],
   "source": [
    "# ~1360 days \n",
    "Mdot_early = Mdot_peak_mult(nu_p_FFA_early, T_e, v_ej_early, t_early)\n",
    "\n",
    "# 1700 days\n",
    "Mdot_late = Mdot_peak_mult(nu_p_FFA_late, T_e, v_ej_early, t_late)"
   ]
  },
  {
   "cell_type": "markdown",
   "metadata": {},
   "source": [
    "Calculate synchrtron cooling values, both epochs:"
   ]
  },
  {
   "cell_type": "code",
   "execution_count": 56,
   "metadata": {},
   "outputs": [],
   "source": [
    "# ~1360 days:\n",
    "# break frequency:\n",
    "nu_syn_early = nu_syn(epsilon_B, Mdot_early, v_wind, t_early, epsilon_B_scale, 10.0**-6.0, v_wind_scale) # Mass loss scaling of 10**-6, below as well\n",
    "# ratio of cooling timescale to adiabatic timescale\n",
    "t_ratio_syn_early = t_syn_ratio(epsilon_B, Mdot_early, v_wind, nu_syn_early, t_early, epsilon_B_scale, 10.0**-6.0, v_wind_scale, 10) # freq scale of 10 GHz\n",
    "\n",
    "# ~1700 days:\n",
    "# break frequency:\n",
    "nu_syn_late = nu_syn(epsilon_B, Mdot_late, v_wind, t_late, epsilon_B_scale, 10.0**-6.0, v_wind_scale) # Mass loss scaling of 10**-6, below as well\n",
    "# ratio of cooling timescale to adiabatic timescale\n",
    "t_ratio_syn_late = t_syn_ratio(epsilon_B, Mdot_late, v_wind, nu_syn_late, t_late, epsilon_B_scale, 10.0**-6.0, v_wind_scale, 10) # freq scale of 10 GHz"
   ]
  },
  {
   "cell_type": "markdown",
   "metadata": {},
   "source": [
    "Calculate IC cooling values, both epochs:"
   ]
  },
  {
   "cell_type": "code",
   "execution_count": null,
   "metadata": {},
   "outputs": [],
   "source": [
    "def nu_IC(epsilon_B, Mdot, v_wind, v_ej, L_bol, t, epsilon_B_scale, Mdot_scale, v_wind_scale, v_ej_scale, L_bol_scale):\n",
    "    nu_IC = 8.0 * ((epsilon_B/epsilon_B_scale)**(0.5)) * ((Mdot/Mdot_scale)**(0.5)) * ((v_wind/v_wind_scale)**(-0.5)) * ((v_ej/v_ej_scale)**(4.0)) * (L_bol/L_bol_scale) * (t/60.0)\n",
    "    return nu_IC\n",
    "\n",
    "def t_IC_ratio(L_bol, epsilon_B, Mdot, v_wind, v_ej, nu, t, L_bol_scale, epsilon_B_scale, Mdot_scale, v_wind_scale, v_ej_scale, nu_scale):\n",
    "    t_IC_ratio = 0.18 * ((L_bol/L_bol_scale)**(-1.0)) * ((epsilon_B/epsilon_B_scale)**(1.0/4.0)) * ((Mdot/Mdot_scale)**(1.0/4.0)) * ((v_wind/v_wind_scale)**(-1.0/4.0)) * ((v_ej/v_ej_scale)**(2.0)) * ((nu/nu_scale)**(-0.5)) * ((t/10.0)**(0.5))\n",
    "    return t_IC_ratio"
   ]
  },
  {
   "cell_type": "code",
   "execution_count": 61,
   "metadata": {},
   "outputs": [
    {
     "ename": "NameError",
     "evalue": "name 'L_bol' is not defined",
     "output_type": "error",
     "traceback": [
      "\u001b[0;31m---------------------------------------------------------------------------\u001b[0m",
      "\u001b[0;31mNameError\u001b[0m                                 Traceback (most recent call last)",
      "Cell \u001b[0;32mIn[61], line 3\u001b[0m\n\u001b[1;32m      1\u001b[0m \u001b[39m# ~1360 days:\u001b[39;00m\n\u001b[1;32m      2\u001b[0m \u001b[39m# break frequency:\u001b[39;00m\n\u001b[0;32m----> 3\u001b[0m nu_IC_early \u001b[39m=\u001b[39m nu_IC(epsilon_B, Mdot_early, v_wind, v_ej_early, L_bol, t_early, epsilon_B_scale, \u001b[39m10.0\u001b[39m\u001b[39m*\u001b[39m\u001b[39m*\u001b[39m\u001b[39m-\u001b[39m\u001b[39m6.0\u001b[39m, v_wind_scale, v_ej_scale, L_bol_scale) \u001b[39m# Mass loss scaling of 10**-6, below as well\u001b[39;00m\n\u001b[1;32m      4\u001b[0m \u001b[39m# ratio of cooling timescale to adiabatic timescale\u001b[39;00m\n\u001b[1;32m      5\u001b[0m t_ratio_IC_early \u001b[39m=\u001b[39m t_IC_ratio(L_bol, epsilon_B, Mdot_early, v_wind, v_ej_early, nu_IC_early, t_early, L_bol_scale, epsilon_B_scale, \u001b[39m10.0\u001b[39m\u001b[39m*\u001b[39m\u001b[39m*\u001b[39m\u001b[39m-\u001b[39m\u001b[39m6.0\u001b[39m, v_wind_scale, v_ej_scale, \u001b[39m10\u001b[39m) \u001b[39m# freq scale of 10 GHz\u001b[39;00m\n",
      "\u001b[0;31mNameError\u001b[0m: name 'L_bol' is not defined"
     ]
    }
   ],
   "source": [
    "# ~1360 days:\n",
    "# break frequency:\n",
    "nu_IC_early = nu_IC(epsilon_B, Mdot_early, v_wind, v_ej_early, L_bol, t_early, epsilon_B_scale, 10.0**-6.0, v_wind_scale, v_ej_scale, L_bol_scale) # Mass loss scaling of 10**-6, below as well\n",
    "# ratio of cooling timescale to adiabatic timescale\n",
    "t_ratio_IC_early = t_IC_ratio(L_bol, epsilon_B, Mdot_early, v_wind, v_ej_early, nu_IC_early, t_early, L_bol_scale, epsilon_B_scale, 10.0**-6.0, v_wind_scale, v_ej_scale, 10) # freq scale of 10 GHz\n",
    "\n",
    "# ~1700 days:\n",
    "# break frequency:\n",
    "nu_IC_late = nu_IC(epsilon_B, Mdot_late, v_wind, v_ej_late, L_bol, t_late, epsilon_B_scale, 10.0**-6.0, v_wind_scale, v_ej_scale, L_bol_scale) # Mass loss scaling of 10**-6, below as well\n",
    "# ratio of cooling timescale to adiabatic timescale\n",
    "t_ratio_IC_late = t_IC_ratio(L_bol, epsilon_B, Mdot_late, v_wind, v_ej_late, nu_IC_late, t_early, L_bol_scale, epsilon_B_scale, 10.0**-6.0, v_wind_scale, v_ej_scale, 10) # freq scale of 10 GHz"
   ]
  }
 ],
 "metadata": {
  "kernelspec": {
   "display_name": "vri",
   "language": "python",
   "name": "python3"
  },
  "language_info": {
   "codemirror_mode": {
    "name": "ipython",
    "version": 3
   },
   "file_extension": ".py",
   "mimetype": "text/x-python",
   "name": "python",
   "nbconvert_exporter": "python",
   "pygments_lexer": "ipython3",
   "version": "3.11.3"
  },
  "orig_nbformat": 4
 },
 "nbformat": 4,
 "nbformat_minor": 2
}
